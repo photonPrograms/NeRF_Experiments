{
  "nbformat": 4,
  "nbformat_minor": 0,
  "metadata": {
    "colab": {
      "name": "gettingCameraMatrices1.ipynb",
      "provenance": [],
      "collapsed_sections": []
    },
    "kernelspec": {
      "name": "python3",
      "display_name": "Python 3"
    },
    "language_info": {
      "name": "python"
    }
  },
  "cells": [
    {
      "cell_type": "code",
      "execution_count": null,
      "metadata": {
        "id": "Ma7AaqkZclxl"
      },
      "outputs": [],
      "source": [
        "def generate_transform_matrix(pos, rot):\n",
        "    def Rx(theta):\n",
        "      return np.matrix([[ 1, 0            , 0            ],\n",
        "                        [ 0, np.cos(theta),-np.sin(theta)],\n",
        "                        [ 0, np.sin(theta), np.cos(theta)]])\n",
        "    def Ry(theta):\n",
        "      return np.matrix([[ np.cos(theta), 0, np.sin(theta)],\n",
        "                        [ 0            , 1, 0            ],\n",
        "                        [-np.sin(theta), 0, np.cos(theta)]])\n",
        "    def Rz(theta):\n",
        "      return np.matrix([[ np.cos(theta), -np.sin(theta), 0 ],\n",
        "                        [ np.sin(theta), np.cos(theta) , 0 ],\n",
        "                        [ 0            , 0             , 1 ]])\n",
        "\n",
        "    R = Rz(rot[2]) * Ry(rot[1]) * Rx(rot[0])\n",
        "    xf_rot = np.eye(4)\n",
        "    xf_rot[:3,:3] = R\n",
        "\n",
        "    xf_pos = np.eye(4)\n",
        "    xf_pos[:3,3] = pos - average_position\n",
        "\n",
        "    # barbershop_mirros_hd_dense:\n",
        "    # - camera plane is y+z plane, meaning: constant x-values\n",
        "    # - cameras look to +x\n",
        "\n",
        "    # Don't ask me...\n",
        "    extra_xf = np.matrix([\n",
        "        [-1, 0, 0, 0],\n",
        "        [ 0, 0, 1, 0],\n",
        "        [ 0, 1, 0, 0],\n",
        "        [ 0, 0, 0, 1]])\n",
        "    # NerF will cycle forward, so lets cycle backward.\n",
        "    shift_coords = np.matrix([\n",
        "        [0, 0, 1, 0],\n",
        "        [1, 0, 0, 0],\n",
        "        [0, 1, 0, 0],\n",
        "        [0, 0, 0, 1]])\n",
        "    xf = shift_coords @ extra_xf @ xf_pos\n",
        "    assert np.abs(np.linalg.det(xf) - 1.0) < 1e-4\n",
        "    xf = xf @ xf_rot\n",
        "    return xf"
      ]
    }
  ]
}